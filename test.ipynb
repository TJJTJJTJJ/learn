{
 "cells": [
  {
   "cell_type": "code",
   "execution_count": 3,
   "metadata": {},
   "outputs": [],
   "source": [
    "import tkinter\n",
    "import sys\n",
    "import random\n",
    "from tkinter import PanedWindow"
   ]
  },
  {
   "cell_type": "code",
   "execution_count": 5,
   "metadata": {},
   "outputs": [
    {
     "data": {
      "text/plain": [
       "0"
      ]
     },
     "execution_count": 5,
     "metadata": {},
     "output_type": "execute_result"
    }
   ],
   "source": [
    "0%8"
   ]
  },
  {
   "cell_type": "code",
   "execution_count": 3,
   "metadata": {},
   "outputs": [
    {
     "data": {
      "text/plain": [
       "True"
      ]
     },
     "execution_count": 3,
     "metadata": {},
     "output_type": "execute_result"
    }
   ],
   "source": [
    "is_run = False"
   ]
  },
  {
   "cell_type": "code",
   "execution_count": 6,
   "metadata": {},
   "outputs": [],
   "source": [
    "def lotttery_whirl(data, i, number):\n",
    "    global is_run\n",
    "    j = i%8\n",
    "    data[j-1]['bg'] = '#CCCCCC'\n",
    "    data[j]['bg'] = '#00CD00'\n",
    "    wait = [a for a in range(100, 300, 10)] + [b for b in range(300, 600, 300//(number-28))] \\\n",
    "           + [c for c in range(600, 1200, 120)] + [d for d in range(1200, 1800, 200)]\n",
    "    if i<number:\n",
    "        window.after(wait[i], lotttery_whirl, data, i+1, number)\n",
    "    else:\n",
    "        is_run=False"
   ]
  },
  {
   "cell_type": "code",
   "execution_count": 2,
   "metadata": {},
   "outputs": [
    {
     "data": {
      "text/plain": [
       "19"
      ]
     },
     "execution_count": 2,
     "metadata": {},
     "output_type": "execute_result"
    }
   ],
   "source": [
    "len([0,1,1,0,1,0,0,1,0,0,0,0,1,1,0,1,1,0,1])\n"
   ]
  },
  {
   "cell_type": "code",
   "execution_count": null,
   "metadata": {},
   "outputs": [],
   "source": [
    "[[1,12,15],[3,0,0],[1,13,18],[3,0,0],[2,15,0],[3,0,0],[1,11,15],[3,0,0],[2,3,0],[3,0,0],[1,3,11],[3,0,0],[1,17,17],[3,0,0]\n",
    ",[2,30,0],[3,0,0],\n",
    "[2,6,0],[3,0,0],[2,14,0],[3,0,0],[1,7,14],[3,0,0],[2,30,0],[3,0,0]]"
   ]
  },
  {
   "cell_type": "code",
   "execution_count": 1,
   "metadata": {},
   "outputs": [
    {
     "data": {
      "text/plain": [
       "20"
      ]
     },
     "execution_count": 1,
     "metadata": {},
     "output_type": "execute_result"
    }
   ],
   "source": [
    "len([-687767,-860350,950296,52109,510127,545329,-291223,-966728,852403,828596,456730,-483632,-529386,356766,147293,572374,243605,931468,641668,494446])"
   ]
  },
  {
   "cell_type": "code",
   "execution_count": null,
   "metadata": {},
   "outputs": [],
   "source": [
    "i, res:  0 1 13 16 7 410\n",
    "i, res:  1 3 0 0 7 410\n",
    "i, res:  2 1 14 19 7 410\n",
    "i, res:  3 3 0 0 7 410\n",
    "i, res:  4 2 15 0 7 515\n",
    "i, res:  5 3 0 0 7 515\n",
    "i, res:  6 1 12 16 8 515\n",
    "i, res:  7 3 0 0 8 515\n",
    "i, res:  8 2 3 0 8 539\n",
    "i, res:  9 3 0 0 8 539\n",
    "i, res:  10 1 4 12 11 539\n",
    "i, res:  11 3 0 0 11 539\n",
    "i, res:  12 1 18 18 14 539\n",
    "i, res:  13 3 0 0 14 539\n",
    "i, res:  14 2 30 0 14 959\n",
    "i, res:  15 3 0 0 14 959\n",
    "i, res:  16 2 6 0 14 1043\n",
    "i, res:  17 3 0 0 14 1043\n",
    "i, res:  18 2 14 0 14 1239\n",
    "i, res:  19 3 0 0 14 1239\n",
    "i, res:  20 1 8 15 12 1239\n",
    "i, res:  21 3 0 0 12 1239\n",
    "i, res:  22 2 30 0 12 1599\n",
    "i, res:  23 3 0 0 12 1599\n",
    "\n"
   ]
  }
 ],
 "metadata": {
  "kernelspec": {
   "display_name": "Python 3.7.0 ('base')",
   "language": "python",
   "name": "python3"
  },
  "language_info": {
   "codemirror_mode": {
    "name": "ipython",
    "version": 3
   },
   "file_extension": ".py",
   "mimetype": "text/x-python",
   "name": "python",
   "nbconvert_exporter": "python",
   "pygments_lexer": "ipython3",
   "version": "3.7.0"
  },
  "orig_nbformat": 4,
  "vscode": {
   "interpreter": {
    "hash": "ad2bdc8ecc057115af97d19610ffacc2b4e99fae6737bb82f5d7fb13d2f2c186"
   }
  }
 },
 "nbformat": 4,
 "nbformat_minor": 2
}
